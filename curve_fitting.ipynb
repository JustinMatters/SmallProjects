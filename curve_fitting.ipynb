{
  "nbformat": 4,
  "nbformat_minor": 0,
  "metadata": {
    "colab": {
      "name": "curve-fitting.ipynb",
      "provenance": [],
      "collapsed_sections": []
    },
    "kernelspec": {
      "name": "python3",
      "display_name": "Python 3"
    },
    "language_info": {
      "name": "python"
    }
  },
  "cells": [
    {
      "cell_type": "markdown",
      "source": [
        "Sometimes we don't have enough data to train a model or want to take a simple curve fitting aproach to approximating a series of points.\n",
        "\n",
        "In this case we can use scipy.optimize.curve_fit to easily approximate a curve for us"
      ],
      "metadata": {
        "id": "ie7Eyxk_pMjK"
      }
    },
    {
      "cell_type": "code",
      "source": [
        "import pandas as pd\n",
        "import numpy as np\n",
        "import math\n",
        "import matplotlib.pyplot as plt\n",
        "import random\n",
        "from scipy.optimize import curve_fit"
      ],
      "metadata": {
        "id": "-WSx08uiq2h6"
      },
      "execution_count": 1,
      "outputs": []
    },
    {
      "cell_type": "markdown",
      "source": [
        "# Simple 2D example"
      ],
      "metadata": {
        "id": "e3HLl5FCJc1I"
      }
    },
    {
      "cell_type": "code",
      "source": [
        "# simple example (2D curve)\n",
        "import numpy as np \n",
        "from scipy.optimize import curve_fit \n",
        "# create a data set \n",
        "x_values = np.array([1,2,3,4,5]) \n",
        "y_values = np.array([2,8,18,32,50]) \n",
        "#define the function we are going to curve fit to \n",
        "def curve_function(x, a): \n",
        "  return a*(x**2) \n",
        "\n",
        "# perform our curve fit \n",
        "parameter, covariance = curve_fit(curve_function, x_values, y_values)\n",
        "print(parameter[0], covariance[0][0])"
      ],
      "metadata": {
        "colab": {
          "base_uri": "https://localhost:8080/"
        },
        "id": "Nt_2fiEQ_cEC",
        "outputId": "10d31329-052d-470e-b55c-d333b9767d56"
      },
      "execution_count": 2,
      "outputs": [
        {
          "output_type": "stream",
          "name": "stdout",
          "text": [
            "2.0 0.0\n"
          ]
        }
      ]
    },
    {
      "cell_type": "markdown",
      "source": [
        "# 3D curve example"
      ],
      "metadata": {
        "id": "LI6pSt78Jm_i"
      }
    },
    {
      "cell_type": "code",
      "source": [
        "# 3D curve example\n",
        "import numpy as np \n",
        "from scipy.optimize import curve_fit \n",
        "# create a data set \n",
        "x_values = np.array([1,2,3,4,5])\n",
        "y_values = np.array([5,4,3,2,1]) \n",
        "z_values = np.array([13,20,33,52,77])\n",
        "#define the function we are going to curve fit to \n",
        "def curve_function(variables, a, b):\n",
        "  # unpack our_variables\n",
        "  x,y = variables\n",
        "  return a*(x**2)+b*(y) \n",
        "\n",
        "# perform our curve fit \n",
        "parameters, covariance = curve_fit(curve_function, (x_values, y_values), z_values)\n",
        "print(parameters)"
      ],
      "metadata": {
        "colab": {
          "base_uri": "https://localhost:8080/"
        },
        "id": "Do_xSrwL_UAP",
        "outputId": "3d7718d2-0dec-459e-ce56-68a7428446d2"
      },
      "execution_count": 3,
      "outputs": [
        {
          "output_type": "stream",
          "name": "stdout",
          "text": [
            "[3. 2.]\n"
          ]
        }
      ]
    },
    {
      "cell_type": "markdown",
      "source": [
        "# 2D example with randomly selected points with some noise added"
      ],
      "metadata": {
        "id": "fb4KgIDAJrZJ"
      }
    },
    {
      "cell_type": "code",
      "source": [
        "# create a numpy rand object\n",
        "rand = np.random.RandomState()\n",
        "\n",
        "# lets create some pseudo data to perform our curve fitting one\n",
        "x_values = rand.uniform(0,10, 10)\n",
        "x_values.sort()\n",
        "\n",
        "# create a random parameter - this is the value the curve fit will need to try to retrieve\n",
        "a = random.random()*10\n",
        "\n",
        "# lets add some noisy variance to our answers so that our data does not lie precisely on the curve\n",
        "variances = rand.normal(-5,5, 10)\n",
        "\n",
        "# now generate our dependent Y values\n",
        "y_values = np.empty(0)\n",
        "for x, variance in zip(x_values, variances):\n",
        "  y_value = (a*(x**2) + variance)\n",
        "  y_values = np.append(y_values, y_value)"
      ],
      "metadata": {
        "id": "KNaA0tAVz9I8"
      },
      "execution_count": 4,
      "outputs": []
    },
    {
      "cell_type": "code",
      "source": [
        "#define the function we are going to curve fit to\n",
        "def func(x, a):\n",
        "  return a*(x**2)\n",
        "\n",
        "# perform our curve fit \n",
        "value, error = curve_fit(func, x_values, y_values)\n",
        "    # [0.58083612, 1.5599452,  1.5601864,  3.74540119, 5.98658484, 6.01115012, 7.08072578, 7.31993942, 8.66176146, 9.50714306]\n",
        "    # ), \n",
        "    # np.array([0.58083612, 1.5599452,  1.5601864,  3.74540119, 5.98658484, 6.01115012, 7.08072578, 7.31993942, 8.66176146, 9.50714306]))\n",
        "\n",
        "# retrieve our parameter\n",
        "A = value[0]\n",
        "std_dev = np.sqrt(np.diag(error))[0]\n",
        "\n",
        "print(f\"True value of A = {a}\")\n",
        "print(f\"Estimated value of A = {A}\")\n",
        "print(f\"Standard deviation = {std_dev}\")"
      ],
      "metadata": {
        "colab": {
          "base_uri": "https://localhost:8080/"
        },
        "id": "AqPp68fM___7",
        "outputId": "205c29a3-bc1a-4884-b4e6-19a40b549f4f"
      },
      "execution_count": 5,
      "outputs": [
        {
          "output_type": "stream",
          "name": "stdout",
          "text": [
            "True value of A = 7.153163587128893\n",
            "Estimated value of A = 7.065105927019458\n",
            "Standard deviation = 0.053205833587394134\n"
          ]
        }
      ]
    },
    {
      "cell_type": "code",
      "source": [
        "# use the same input values with our derived value of A to recreate our curve\n",
        "predicted_x = func(x_values, A)"
      ],
      "metadata": {
        "id": "ac9IuZP_I8GZ"
      },
      "execution_count": 6,
      "outputs": []
    },
    {
      "cell_type": "code",
      "source": [
        "# plot our estimated curve against the dataset curve_fit was given\n",
        "fig, ax = plt.subplots(figsize=(10, 10))\n",
        "plt.title(\"Graph of fit\")\n",
        "plt.xlabel(\"X axis\")\n",
        "plt.ylabel(\"Y Axis\")\n",
        "ax.scatter(x_values, y_values, color =\"blue\", label = \"values\")\n",
        "ax.plot(x_values, predicted_x, color =\"red\", label = \"fit\")\n",
        "ax.legend()\n",
        "plt.show()"
      ],
      "metadata": {
        "colab": {
          "base_uri": "https://localhost:8080/",
          "height": 621
        },
        "id": "z7eMVb8moq9c",
        "outputId": "02fb2f1b-f616-48b3-d999-4c319ba9a17d"
      },
      "execution_count": 7,
      "outputs": [
        {
          "output_type": "display_data",
          "data": {
            "text/plain": [
              "<Figure size 720x720 with 1 Axes>"
            ],
            "image/png": "[encoded data removed]"
          },
          "metadata": {
            "needs_background": "light"
          }
        }
      ]
    },
    {
      "cell_type": "markdown",
      "source": [
        "# 3D example including some random noise in the input variables"
      ],
      "metadata": {
        "id": "JF1_l8bxGP_M"
      }
    },
    {
      "cell_type": "code",
      "source": [
        "# select some independent variable values\n",
        "x_values = rand.uniform(0,10, 10)\n",
        "y_values = rand.uniform(0,10, 10)\n",
        "\n",
        "# create random parameters - these are the values the curve fit will need to try to retrieve\n",
        "a = random.random()*10\n",
        "b = random.random()*10\n",
        "\n",
        "z_values = []\n",
        "for x,y,variance in zip(x_values, y_values, variances):\n",
        "  z_value = (a*(x**2) + b*y)\n",
        "  z_values.append(z_value)"
      ],
      "metadata": {
        "id": "b8MIpdLv1neh"
      },
      "execution_count": 8,
      "outputs": []
    },
    {
      "cell_type": "code",
      "source": [
        "# convert our lists to numpy arrays where needed\n",
        "x_array = x_values\n",
        "y_array = np.array(y_values)\n",
        "z_array = np.array(z_values)"
      ],
      "metadata": {
        "id": "twFDZHQoDOeu"
      },
      "execution_count": 9,
      "outputs": []
    },
    {
      "cell_type": "code",
      "source": [
        "#define the function we are going to curve fit to\n",
        "def func(independent, a, b):\n",
        "  x,y = independent\n",
        "  return a*(x**2)+b*y\n",
        "\n",
        "# perform our curve fit (note we have to pack the multiple variables as a tuple)\n",
        "params, error = curve_fit(func, (x_array, y_array), z_array)\n",
        "# retrieve our parameter\n",
        "A, B = params[0], params [1]\n",
        "std_dev = np.sqrt(np.diag(error))\n",
        "print(f\"True A value = {a}\", f\"True B value = {b}\")\n",
        "print(f\"Estimated A = {A}\", f\"Estimated B= {B}\", f\"Standard Deviations = {std_dev}\")"
      ],
      "metadata": {
        "colab": {
          "base_uri": "https://localhost:8080/"
        },
        "id": "7SvZDw78DOQo",
        "outputId": "23862819-a82f-416b-d55a-0d97353d7cd1"
      },
      "execution_count": 10,
      "outputs": [
        {
          "output_type": "stream",
          "name": "stdout",
          "text": [
            "True A value = 7.322044626708447 True B value = 0.021818990586761622\n",
            "Estimated A = 7.322044626708447 Estimated B= 0.021818990586759353 Standard Deviations = [1.36868415e-16 1.15541537e-15]\n"
          ]
        }
      ]
    },
    {
      "cell_type": "code",
      "source": [
        ""
      ],
      "metadata": {
        "id": "wgYjfUKAEjEQ"
      },
      "execution_count": 10,
      "outputs": []
    }
  ]
}