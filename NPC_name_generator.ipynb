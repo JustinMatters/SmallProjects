{
  "nbformat": 4,
  "nbformat_minor": 0,
  "metadata": {
    "colab": {
      "name": "NPC name generator.ipynb",
      "provenance": [],
      "authorship_tag": "ABX9TyNYzuju3LtoErYuZ7JhfYs2"
    },
    "kernelspec": {
      "name": "python3",
      "display_name": "Python 3"
    },
    "language_info": {
      "name": "python"
    }
  },
  "cells": [
    {
      "cell_type": "markdown",
      "metadata": {
        "id": "c53rIwQAPux0"
      },
      "source": [
        "# Using n-grams to generate plausible names for NPCs\n",
        "N-grams are a useful way of preserving the general structure of a language sample while allowing the generation of novel text (see https://towardsdatascience.com/text-generation-using-n-gram-model-8d12d9802aa0)\n",
        "\n",
        "Here we shall use them to attempt to produce plausible NPC names. We shall take a sample names corpus and use it to generate plausible synthetic names\n",
        "\n",
        "nltk has useful n-gram functions in its collocation module which we shall make use of. https://www.nltk.org/api/nltk.html"
      ]
    },
    {
      "cell_type": "code",
      "metadata": {
        "id": "vbmWtYtWP04V"
      },
      "source": [
        "from io import BytesIO\n",
        "import math\n",
        "import nltk\n",
        "import pandas as pd\n",
        "from pathlib import Path\n",
        "import random\n",
        "import urllib.request\n",
        "from zipfile import ZipFile\n",
        "import nltk\n",
        "from nltk.util import ngrams\n",
        "from nltk.corpus import words"
      ],
      "execution_count": null,
      "outputs": []
    },
    {
      "cell_type": "code",
      "metadata": {
        "colab": {
          "base_uri": "https://localhost:8080/"
        },
        "id": "5yVUdiOye4R7",
        "outputId": "95d09888-0ca9-426b-85d9-702a66e2cfc8"
      },
      "source": [
        "nltk.download('words')"
      ],
      "execution_count": null,
      "outputs": [
        {
          "output_type": "stream",
          "name": "stdout",
          "text": [
            "[nltk_data] Downloading package words to /root/nltk_data...\n",
            "[nltk_data]   Package words is already up-to-date!\n"
          ]
        },
        {
          "output_type": "execute_result",
          "data": {
            "text/plain": [
              "True"
            ]
          },
          "metadata": {},
          "execution_count": 12
        }
      ]
    },
    {
      "cell_type": "code",
      "metadata": {
        "id": "CgX5G4LMaW79"
      },
      "source": [
        "# obtain the relevant file from the US census\n",
        "names_url = 'https://www.ssa.gov/oact/babynames/names.zip'\n",
        "local_file = 'babynames_download.zip'\n",
        "# unfortunately ZipFile strenuously objects to handling in memory data so lets create a local copy of the zipfile before we can handle it \n",
        "# first lets check if we already have the data downloaded and download if not\n",
        "test_file = Path(local_file)\n",
        "if not test_file.is_file():\n",
        "  with urllib.request.urlopen(names_url) as remote:  # open remote file\n",
        "    data = remote.read()  \n",
        "  # write a local copy\n",
        "  with open(local_file, 'wb') as local: \n",
        "    local.write(data)"
      ],
      "execution_count": null,
      "outputs": []
    },
    {
      "cell_type": "code",
      "metadata": {
        "id": "C-q8GMl6erso"
      },
      "source": [
        "# set our desired year between 1880 and 2020\n",
        "year = '1991'\n",
        "\n",
        "# now we can process the file with ZipFile\n",
        "with ZipFile(local_file, 'r') as zip_file:\n",
        "  #zip.printdir()\n",
        "  file_bytes = zip_file.read(f'yob{year}.txt')\n",
        "  names_df = pd.read_csv(BytesIO(file_bytes), header = None, names = ['name', 'gender', 'count'])"
      ],
      "execution_count": null,
      "outputs": []
    },
    {
      "cell_type": "markdown",
      "metadata": {
        "id": "DQfGeL_JiQ9Y"
      },
      "source": [
        "# preprocessing\n",
        "It seems likely that male and female names may have different characteristics (for example female names may be more likely to end in a vowel) lets create a male list and a female list before we start processing for ngrams. We can also join these lists to seek potentially gender neutral names which we could try to use for producing gender neutral names."
      ]
    },
    {
      "cell_type": "code",
      "metadata": {
        "colab": {
          "base_uri": "https://localhost:8080/"
        },
        "id": "c7V-IrQ3hMo2",
        "outputId": "db3e7257-e58a-4336-8ef7-cf281e3f45f9"
      },
      "source": [
        "male_names_df = names_df[names_df['gender']=='M']\n",
        "female_names_df = names_df[names_df['gender']=='F']\n",
        "\n",
        "# lets also look for names which are used for both genders\n",
        "shared_names_df = male_names_df.merge(\n",
        "  female_names_df,  \n",
        "  how = 'inner',\n",
        "  on = 'name',\n",
        "  suffixes = ('_m', '_f'), \n",
        ")\n",
        "# calculate the female/male ratio\n",
        "shared_names_df['ratio'] = shared_names_df['count_f'] / shared_names_df['count_m']\n",
        "# remove names overwhelmingly used for females (but preserve the join for future analysis)\n",
        "neutral_names_df = shared_names_df[shared_names_df['ratio'] < 10]\n",
        "# remove names overwhelmingly used for males\n",
        "neutral_names_df = neutral_names_df[neutral_names_df['ratio'] > 0.1]\n",
        "neutral_names_df.reset_index(inplace = True, drop=True)\n",
        "neutral_names_df['count'] = neutral_names_df['count_m'] + neutral_names_df['count_f']\n",
        "neutral_names_df['gender'] = 'N'\n",
        "neutral_names_df.drop(\n",
        "  columns=['gender_f', 'gender_m', 'count_m', 'count_f', 'ratio'], \n",
        "  inplace = True,\n",
        ")\n",
        "neutral_names_df"
      ],
      "execution_count": null,
      "outputs": [
        {
          "output_type": "execute_result",
          "data": {
            "text/html": [
              "<div>\n",
              "<style scoped>\n",
              "    .dataframe tbody tr th:only-of-type {\n",
              "        vertical-align: middle;\n",
              "    }\n",
              "\n",
              "    .dataframe tbody tr th {\n",
              "        vertical-align: top;\n",
              "    }\n",
              "\n",
              "    .dataframe thead th {\n",
              "        text-align: right;\n",
              "    }\n",
              "</style>\n",
              "<table border=\"1\" class=\"dataframe\">\n",
              "  <thead>\n",
              "    <tr style=\"text-align: right;\">\n",
              "      <th></th>\n",
              "      <th>name</th>\n",
              "      <th>count</th>\n",
              "      <th>gender</th>\n",
              "    </tr>\n",
              "  </thead>\n",
              "  <tbody>\n",
              "    <tr>\n",
              "      <th>0</th>\n",
              "      <td>Jordan</td>\n",
              "      <td>21576</td>\n",
              "      <td>N</td>\n",
              "    </tr>\n",
              "    <tr>\n",
              "      <th>1</th>\n",
              "      <td>Taylor</td>\n",
              "      <td>18223</td>\n",
              "      <td>N</td>\n",
              "    </tr>\n",
              "    <tr>\n",
              "      <th>2</th>\n",
              "      <td>Devin</td>\n",
              "      <td>5550</td>\n",
              "      <td>N</td>\n",
              "    </tr>\n",
              "    <tr>\n",
              "      <th>3</th>\n",
              "      <td>Casey</td>\n",
              "      <td>7177</td>\n",
              "      <td>N</td>\n",
              "    </tr>\n",
              "    <tr>\n",
              "      <th>4</th>\n",
              "      <td>Logan</td>\n",
              "      <td>4404</td>\n",
              "      <td>N</td>\n",
              "    </tr>\n",
              "    <tr>\n",
              "      <th>...</th>\n",
              "      <td>...</td>\n",
              "      <td>...</td>\n",
              "      <td>...</td>\n",
              "    </tr>\n",
              "    <tr>\n",
              "      <th>1148</th>\n",
              "      <td>Tranell</td>\n",
              "      <td>11</td>\n",
              "      <td>N</td>\n",
              "    </tr>\n",
              "    <tr>\n",
              "      <th>1149</th>\n",
              "      <td>Tristyn</td>\n",
              "      <td>17</td>\n",
              "      <td>N</td>\n",
              "    </tr>\n",
              "    <tr>\n",
              "      <th>1150</th>\n",
              "      <td>Vanny</td>\n",
              "      <td>11</td>\n",
              "      <td>N</td>\n",
              "    </tr>\n",
              "    <tr>\n",
              "      <th>1151</th>\n",
              "      <td>Weslie</td>\n",
              "      <td>11</td>\n",
              "      <td>N</td>\n",
              "    </tr>\n",
              "    <tr>\n",
              "      <th>1152</th>\n",
              "      <td>Yarden</td>\n",
              "      <td>12</td>\n",
              "      <td>N</td>\n",
              "    </tr>\n",
              "  </tbody>\n",
              "</table>\n",
              "<p>1153 rows × 3 columns</p>\n",
              "</div>"
            ],
            "text/plain": [
              "         name  count gender\n",
              "0      Jordan  21576      N\n",
              "1      Taylor  18223      N\n",
              "2       Devin   5550      N\n",
              "3       Casey   7177      N\n",
              "4       Logan   4404      N\n",
              "...       ...    ...    ...\n",
              "1148  Tranell     11      N\n",
              "1149  Tristyn     17      N\n",
              "1150    Vanny     11      N\n",
              "1151   Weslie     11      N\n",
              "1152   Yarden     12      N\n",
              "\n",
              "[1153 rows x 3 columns]"
            ]
          },
          "metadata": {},
          "execution_count": 5
        }
      ]
    },
    {
      "cell_type": "code",
      "metadata": {
        "id": "qmz975hyyw7X"
      },
      "source": [
        ""
      ],
      "execution_count": null,
      "outputs": []
    },
    {
      "cell_type": "code",
      "metadata": {
        "colab": {
          "base_uri": "https://localhost:8080/",
          "height": 423
        },
        "id": "EaVXMI2-yBCm",
        "outputId": "821eff9f-2b79-4c7c-9239-8437525d027d"
      },
      "source": [
        "# nltk works on lists lets get a list of letters to work with then apply the N-grams function to it\n",
        "\n",
        "# set an n value for our n-grams\n",
        "n_value = 3\n",
        "\n",
        "def tokenise(word: str, n=2):\n",
        "  '''Convert words into a token list of individual lower case characters \n",
        "  prefixed by n > symbols and suffixed by n < symbols\n",
        "\n",
        "  Args:\n",
        "      word (str): the word to be tokenised\n",
        "      n (int): number of prefix and suffix characters to append\n",
        "\n",
        "  Returns:\n",
        "      The tokenised list\n",
        "  '''\n",
        "  # Our names structure may be position sensitive lets add start and stop characters\n",
        "  # Lets add \"<<\" in front of our names and \">>\" behind\n",
        "  return ['>'] * (n) + list(word.lower()) + ['<'] * (n)\n",
        "\n",
        "def get_ngrams(sequence: list, n=2):\n",
        "  '''Convert a sequence of tokens into a list of n-grams. \n",
        "    This is a wrapper for the nltk ngrams function returning a list not a generator.\n",
        "    See https://www.nltk.org/api/nltk.html?highlight=ngram \n",
        "\n",
        "  Args:\n",
        "      sequence (list): the word to be tokenised\n",
        "      n (int): the order of n-grams to return\n",
        "\n",
        "  Returns:\n",
        "      A list of n-gram tuples\n",
        "  '''\n",
        "  # we can use the nltk ngrams function but we need to return a list not a generator\n",
        "  # https://www.nltk.org/api/nltk.html?highlight=ngram \n",
        "  ngram_list = list(ngrams(sequence=sequence, n=n))\n",
        "  return ngram_list\n",
        "\n",
        "def weight_by_count(count):\n",
        "  '''produce integer weightings by taking the natural log of a number and adding one \n",
        "  \n",
        "  Args:\n",
        "      count (int): a positive integer to turn into a weight\n",
        "\n",
        "  Returns:\n",
        "      An int to use as a weight\n",
        "  '''\n",
        "  return int(math.log(count))+1\n",
        "\n",
        "\n",
        "def ngram_dataframe(df: pd.core.frame.DataFrame, n: int):\n",
        "  ''' Given a dataframe with columns called 'name' and 'count', returns a \n",
        "  dataframe of ngram frequencies for future use. Note that the natural log +1 of \n",
        "  count is used to determine frequencies of ngrams when summing to avoid common \n",
        "  names swamping rare ones while still biassing slightly for comon names\n",
        "\n",
        "  Args:\n",
        "      df (pandas.core.frame.DataFrame): the input dataframe of names and frquencies\n",
        "      n (int): the order of n-grams to process\n",
        "\n",
        "  Returns:\n",
        "      A pandas.core.frame.DataFrame of n-gram frequencies\n",
        "  \n",
        "  '''\n",
        "  df['tokens'] = df['name'].apply(tokenise, n = n -1)\n",
        "  df['n_value'] = n\n",
        "  # we want to weight for common names but not to extremes\n",
        "  df['weight'] = df['count'].apply(weight_by_count)\n",
        "  # note that we can pass **kwargs into apply and they forward to the applied function\n",
        "  # https://pandas.pydata.org/docs/reference/api/pandas.DataFrame.apply.html\n",
        "  df['n_grams'] = df['tokens'].apply(get_ngrams, n=n)\n",
        "  # now we can explode our ngrams \n",
        "  # https://pandas.pydata.org/pandas-docs/stable/user_guide/reshaping.html#exploding-a-list-like-column\n",
        "  df = df.explode('n_grams')\n",
        "  # then groupby n_grams to get our relative frequencies\n",
        "  # https://pandas.pydata.org/docs/reference/api/pandas.core.groupby.DataFrameGroupBy.aggregate.html\n",
        "  df = df.groupby('n_grams').agg({'weight': 'sum'}).reset_index()\n",
        "  return df\n",
        "\n",
        "# lets start with the neutral names\n",
        "df_n_grams = ngram_dataframe(df=neutral_names_df, n=n_value)\n",
        "df_n_grams"
      ],
      "execution_count": 41,
      "outputs": [
        {
          "output_type": "execute_result",
          "data": {
            "text/html": [
              "<div>\n",
              "<style scoped>\n",
              "    .dataframe tbody tr th:only-of-type {\n",
              "        vertical-align: middle;\n",
              "    }\n",
              "\n",
              "    .dataframe tbody tr th {\n",
              "        vertical-align: top;\n",
              "    }\n",
              "\n",
              "    .dataframe thead th {\n",
              "        text-align: right;\n",
              "    }\n",
              "</style>\n",
              "<table border=\"1\" class=\"dataframe\">\n",
              "  <thead>\n",
              "    <tr style=\"text-align: right;\">\n",
              "      <th></th>\n",
              "      <th>n_grams</th>\n",
              "      <th>weight</th>\n",
              "    </tr>\n",
              "  </thead>\n",
              "  <tbody>\n",
              "    <tr>\n",
              "      <th>0</th>\n",
              "      <td>(&gt;, &gt;, a)</td>\n",
              "      <td>440</td>\n",
              "    </tr>\n",
              "    <tr>\n",
              "      <th>1</th>\n",
              "      <td>(&gt;, &gt;, b)</td>\n",
              "      <td>179</td>\n",
              "    </tr>\n",
              "    <tr>\n",
              "      <th>2</th>\n",
              "      <td>(&gt;, &gt;, c)</td>\n",
              "      <td>477</td>\n",
              "    </tr>\n",
              "    <tr>\n",
              "      <th>3</th>\n",
              "      <td>(&gt;, &gt;, d)</td>\n",
              "      <td>469</td>\n",
              "    </tr>\n",
              "    <tr>\n",
              "      <th>4</th>\n",
              "      <td>(&gt;, &gt;, e)</td>\n",
              "      <td>91</td>\n",
              "    </tr>\n",
              "    <tr>\n",
              "      <th>...</th>\n",
              "      <td>...</td>\n",
              "      <td>...</td>\n",
              "    </tr>\n",
              "    <tr>\n",
              "      <th>1594</th>\n",
              "      <td>(z, i, e)</td>\n",
              "      <td>18</td>\n",
              "    </tr>\n",
              "    <tr>\n",
              "      <th>1595</th>\n",
              "      <td>(z, m, o)</td>\n",
              "      <td>3</td>\n",
              "    </tr>\n",
              "    <tr>\n",
              "      <th>1596</th>\n",
              "      <td>(z, u, r)</td>\n",
              "      <td>5</td>\n",
              "    </tr>\n",
              "    <tr>\n",
              "      <th>1597</th>\n",
              "      <td>(z, y, &lt;)</td>\n",
              "      <td>4</td>\n",
              "    </tr>\n",
              "    <tr>\n",
              "      <th>1598</th>\n",
              "      <td>(z, z, &lt;)</td>\n",
              "      <td>4</td>\n",
              "    </tr>\n",
              "  </tbody>\n",
              "</table>\n",
              "<p>1599 rows × 2 columns</p>\n",
              "</div>"
            ],
            "text/plain": [
              "        n_grams  weight\n",
              "0     (>, >, a)     440\n",
              "1     (>, >, b)     179\n",
              "2     (>, >, c)     477\n",
              "3     (>, >, d)     469\n",
              "4     (>, >, e)      91\n",
              "...         ...     ...\n",
              "1594  (z, i, e)      18\n",
              "1595  (z, m, o)       3\n",
              "1596  (z, u, r)       5\n",
              "1597  (z, y, <)       4\n",
              "1598  (z, z, <)       4\n",
              "\n",
              "[1599 rows x 2 columns]"
            ]
          },
          "metadata": {},
          "execution_count": 41
        }
      ]
    },
    {
      "cell_type": "markdown",
      "metadata": {
        "id": "qzxuTKi9IcGV"
      },
      "source": [
        "# optimise data format\n",
        "now we need to convert our n-gram frequencies into a format to allow for rapid retrieval for generation of names. For any given n-gram we will want to look at the previous n-1 letters of our existing sequence and generate the next letter in proportion to the frequencies of occurence of the last letters of the n-grams that start with our current n-1 preceding letters"
      ]
    },
    {
      "cell_type": "code",
      "metadata": {
        "id": "4RESXDgNIxKf"
      },
      "source": [
        "def get_n_gram_dictionary(df_n_grams: pd.core.frame.DataFrame):\n",
        "  # get our start parts and next character\n",
        "  df_n_grams['start_seq'] = df_n_grams['n_grams'].apply(lambda x: x[:-1])\n",
        "  df_n_grams['next'] = df_n_grams['n_grams'].apply(lambda x: x[-1])\n",
        "\n",
        "  # now extract out weights, start sequences and next letters\n",
        "  weights = df_n_grams['weight'].to_list()\n",
        "  starts = df_n_grams['start_seq'].to_list()\n",
        "  nexts = df_n_grams['next'].to_list()\n",
        "\n",
        "  ngram_zip = zip(starts, nexts, weights)\n",
        "  unique_starts = set(starts)\n",
        "  # create an empty dictionary to put our data into \n",
        "  ngram_dict = {key: [] for key in unique_starts}\n",
        "  for item in ngram_zip:\n",
        "    possible_letters = [item[1]]*item[2]\n",
        "    ngram_dict[item[0]].extend(possible_letters)\n",
        "  return ngram_dict\n",
        "\n",
        "ngram_dict = get_n_gram_dictionary(df_n_grams)"
      ],
      "execution_count": 42,
      "outputs": []
    },
    {
      "cell_type": "markdown",
      "metadata": {
        "id": "VFlaLB9NRoMX"
      },
      "source": [
        "We now have a dictionary where the keys are the preceding tuple and the items are a list of the possible next letters with each letter appearing in the list multiple times according to itsd frequency as the end of the n-gram. \n",
        "\n",
        "Therefore to generate a name all we need to do is start with the sequence [\">\", \">\"] and repeatedly pick a random element from the corresponding dictionary entry\n",
        "\n",
        "As a final flourish we shall check that we have not produced and English word (this happens quite often)"
      ]
    },
    {
      "cell_type": "code",
      "metadata": {
        "colab": {
          "base_uri": "https://localhost:8080/"
        },
        "id": "f-ObICx2TI0r",
        "outputId": "a4d91b54-a56a-4523-c837-e42c0ca74bbb"
      },
      "source": [
        "def generate_names(ngram_dict: dict, names_required = 10, n_value=3):\n",
        "  n_minus_one = n_value - 1\n",
        "  names_completed = 0\n",
        "  new_names = []\n",
        "  while names_completed < names_required:\n",
        "    # generate start sequence\n",
        "    start = ['>'] * n_minus_one\n",
        "    generated_name = start\n",
        "    while len(generated_name) < 12 and generated_name[-n_minus_one:] != ['<']*n_minus_one:\n",
        "      preceding_tuple = tuple(generated_name[-n_minus_one:])\n",
        "      possibilities = ngram_dict[preceding_tuple]\n",
        "      next_letter = random.choice(possibilities)\n",
        "      generated_name.append(next_letter)\n",
        "    finished_name = \"\".join(generated_name[n_minus_one:-n_minus_one])\n",
        "    if finished_name in words.words():\n",
        "      print ('ooops English word')\n",
        "    else:\n",
        "      new_names.append(finished_name.capitalize())\n",
        "      names_completed += 1\n",
        "  return new_names\n",
        "\n",
        "\n",
        "# now we can produce some gender neutral names\n",
        "neutral_names = generate_names(ngram_dict, names_required = 10, n_value = 3)\n",
        "print(neutral_names)"
      ],
      "execution_count": 47,
      "outputs": [
        {
          "output_type": "stream",
          "name": "stdout",
          "text": [
            "ooops English word\n",
            "ooops English word\n",
            "ooops English word\n",
            "ooops English word\n",
            "ooops English word\n",
            "['Skyerich', 'Shikking', 'Ji', 'Jenain', 'Marittan', 'Kary', 'Ossidala', 'Jacy', 'Colan', 'Jeanice']\n"
          ]
        }
      ]
    },
    {
      "cell_type": "code",
      "metadata": {
        "id": "8yzCypNkK5zG"
      },
      "source": [
        ""
      ],
      "execution_count": null,
      "outputs": []
    },
    {
      "cell_type": "code",
      "metadata": {
        "id": "DIwSv6aCRXEU",
        "colab": {
          "base_uri": "https://localhost:8080/"
        },
        "outputId": "0a207901-e49c-4d8c-db69-d1570ef4d035"
      },
      "source": [
        "# generate synthetic female names\n",
        "n_value = 3\n",
        "df_female_grams = ngram_dataframe(df=female_names_df, n=n_value)\n",
        "female_dict = get_n_gram_dictionary(df_female_grams)\n",
        "female_names = generate_names(female_dict, names_required = 10, n_value = n_value)\n",
        "print(female_names)\n"
      ],
      "execution_count": 48,
      "outputs": [
        {
          "output_type": "stream",
          "name": "stdout",
          "text": [
            "ooops English word\n",
            "ooops English word\n",
            "['Luperann', 'Clotira', 'Toryana', 'Coustani', 'Ia', 'Adinden', 'Moniccia', 'Chountob', 'Nie', 'Kouricki']\n"
          ]
        }
      ]
    },
    {
      "cell_type": "code",
      "metadata": {
        "colab": {
          "base_uri": "https://localhost:8080/"
        },
        "id": "N1H3C0OFuYq8",
        "outputId": "8c418779-57d9-461c-d3e7-1e6ba9928900"
      },
      "source": [
        "# generate synthetic male names\n",
        "n_value = 4\n",
        "df_male_grams = ngram_dataframe(df=male_names_df, n=n_value)\n",
        "male_dict = get_n_gram_dictionary(df_male_grams)\n",
        "male_names = generate_names(male_dict, names_required = 10, n_value = n_value)\n",
        "print(male_names)\n"
      ],
      "execution_count": 51,
      "outputs": [
        {
          "output_type": "stream",
          "name": "stdout",
          "text": [
            "ooops English word\n",
            "ooops English word\n",
            "ooops English word\n",
            "ooops English word\n",
            "['Jacote', 'Juan', 'Damal', 'Kenio', 'Kus', 'Cipria', 'Harlan', 'Que', 'Natha', 'Ravong']\n"
          ]
        }
      ]
    },
    {
      "cell_type": "code",
      "metadata": {
        "id": "lBLYB2zHxw7c"
      },
      "source": [
        ""
      ],
      "execution_count": 50,
      "outputs": []
    }
  ]
}