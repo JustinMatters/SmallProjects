{
 "cells": [
  {
   "cell_type": "code",
   "execution_count": 1,
   "id": "ffeae88f",
   "metadata": {},
   "outputs": [
    {
     "name": "stdout",
     "output_type": "stream",
     "text": [
      "\n",
      "The sky appears blue because of a phenomenon called Rayleigh scattering. When sunlight enters Earth's atmosphere, it encounters tiny molecules of gases such as nitrogen and oxygen. These molecules scatter the light in all directions, but they scatter shorter (blue) wavelengths more than longer (red) wavelengths. This is known as Rayleigh scattering.\n",
      "\n",
      "As a result of this scattering, the blue light is dispersed throughout the atmosphere, giving the sky its blue color. The blue light scatted by the atmosphere appears to come from all directions, creating the illusion of a clear, blue sky.\n",
      "\n",
      "The reason why the sky appears blue under these conditions is due to the way our brains process visual information. Our eyes are sensitive to different wavelengths of light, and we are more sensitive to the blue end of the spectrum than the red end. So, when the scattered light is blue, it appears brighter and more intense to us, giving the impression of a blue sky.\n",
      "\n",
      "It's worth noting that the color of the sky can appear different under different conditions. For example, during sunrise and sunset, the sky can take on hues of red, orange, and pink due to the scattering of light by particles in the atmosphere. Additionally, pollution and other environmental factors can also affect the color of the sky.\n"
     ]
    }
   ],
   "source": [
    "import ollama\n",
    "response = ollama.chat(model='llama2', messages=[\n",
    "  {\n",
    "    'role': 'user',\n",
    "    'content': 'Why is the sky blue?',\n",
    "  },\n",
    "])\n",
    "print(response['message']['content'])"
   ]
  },
  {
   "cell_type": "code",
   "execution_count": 1,
   "id": "6cc6e71e",
   "metadata": {},
   "outputs": [
    {
     "name": "stdout",
     "output_type": "stream",
     "text": [
      " This is a digital artwork depicting a scene that appears to be inspired by the Victorian era. In the foreground, a man dressed in a long coat and top hat is captured mid-stride as he walks down a cobblestone street. His posture suggests purposeful movement, possibly indicative of haste or urgency. The lighting in the image gives it an atmospheric quality, with fog or heavy smoke obscuring the background details, creating a sense of mystery and intrigue.\n",
      "\n",
      "The man is holding a cane in his right hand, which he uses to navigate his path. His left arm is extended outward, adding to the dynamic feel of the image as if he's reaching for something unseen. The street itself has narrow alleys lined with buildings, some featuring signs or decorations that hint at a bustling urban environment despite the fog.\n",
      "\n",
      "The color palette is rich and varied, with warm tones dominating the scene, creating a contrast with the cooler hues of the man's attire. The overall mood of the artwork is dramatic and evocative, likely designed to elicit feelings of suspense or adventure in the viewer.\n",
      "\n",
      "The image does not contain any visible text or branding. The art style is realistic with attention to detail, particularly noticeable in the man's clothing and the foggy street environment. This level of detail, combined with the dramatic lighting and composition, makes the artwork a compelling visual piece. \n"
     ]
    }
   ],
   "source": [
    "import ollama\n",
    "\n",
    "res = ollama.chat(\n",
    "    model=\"llava\",\n",
    "    messages=[\n",
    "        {\n",
    "            'role': 'user',\n",
    "            'content': 'Describe this image:',\n",
    "            'images': ['./art.jpg']\n",
    "        }\n",
    "    ]\n",
    ")\n",
    "\n",
    "print(res['message']['content'])"
   ]
  },
  {
   "cell_type": "code",
   "execution_count": null,
   "id": "9fbe2ea3",
   "metadata": {},
   "outputs": [],
   "source": []
  }
 ],
 "metadata": {
  "kernelspec": {
   "display_name": "langchain",
   "language": "python",
   "name": "langchain"
  },
  "language_info": {
   "codemirror_mode": {
    "name": "ipython",
    "version": 3
   },
   "file_extension": ".py",
   "mimetype": "text/x-python",
   "name": "python",
   "nbconvert_exporter": "python",
   "pygments_lexer": "ipython3",
   "version": "3.11.3"
  }
 },
 "nbformat": 4,
 "nbformat_minor": 5
}
