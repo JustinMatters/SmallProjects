{
 "cells": [
  {
   "cell_type": "code",
   "execution_count": 1,
   "id": "ffeae88f",
   "metadata": {},
   "outputs": [
    {
     "name": "stdout",
     "output_type": "stream",
     "text": [
      "\n",
      "The sky appears blue because of a phenomenon called Rayleigh scattering, which occurs when sunlight travels through the Earth's atmosphere. The atmosphere contains tiny molecules of gases such as nitrogen and oxygen, which scatters the sunlight in all directions.\n",
      "\n",
      "The shorter wavelengths of light, such as violet and blue, are scattered more than the longer wavelengths, such as red and orange. This is known as Rayleigh's Law. As a result, the blue light is dispersed in all directions and reaches our eyes from everywhere in the sky, giving it a blue appearance.\n",
      "\n",
      "The reason why the sky appears blue during the daytime is because the sunlight is traveling through a longer distance in the atmosphere than at night. During the daytime, the sunlight has to travel through more of the atmosphere, which scatters the light even more, making the sky appear bluer.\n",
      "\n",
      "At sunrise and sunset, the light has to travel through even more of the atmosphere, resulting in an even bluer appearance. This is why the sky can sometimes appear a deep blue or purple during these times.\n",
      "\n",
      "It's also worth noting that the color of the sky can be affected by other factors such as pollution, dust, and water vapor in the atmosphere, which can scatter light in different ways and change the apparent color of the sky.\n"
     ]
    }
   ],
   "source": [
    "import ollama\n",
    "response = ollama.chat(model='llama2', messages=[\n",
    "  {\n",
    "    'role': 'user',\n",
    "    'content': 'Why is the sky blue?',\n",
    "  },\n",
    "])\n",
    "print(response['message']['content'])"
   ]
  },
  {
   "cell_type": "code",
   "execution_count": 1,
   "id": "a5fdf85e",
   "metadata": {},
   "outputs": [
    {
     "name": "stdout",
     "output_type": "stream",
     "text": [
      "{\"fruit\": [\"apple\", \"banana\", \"pear\"], \"names\": [\"dan\", \"jill\", \"robin\"], \"favouriteNumber\": 7, \"cashBalance\": \"£4.32\"}\n"
     ]
    }
   ],
   "source": [
    "import ollama\n",
    "response = ollama.chat(model='llama3:8b', messages=[\n",
    "  {\n",
    "    'role': 'user',\n",
    "    'content': 'please put the following into a JSON dictionary. Do not include anything but the JSON dictionary: a list of the following fruit apple banana, pear a list of names dan, jill, robin, my favourite number 7 a cash balance of £4.32',\n",
    "  },\n",
    "])\n",
    "print(response['message']['content'])"
   ]
  },
  {
   "cell_type": "code",
   "execution_count": 5,
   "id": "6cc6e71e",
   "metadata": {},
   "outputs": [
    {
     "name": "stdout",
     "output_type": "stream",
     "text": [
      " The image depicts a stylized, atmospheric scene in what appears to be an old European town. In the foreground, a man is walking down a cobblestone street, dressed in a long coat and cape, with his head down and hands clasped together. He resembles a classic figure of mystery or intrigue, often associated with detective fiction. The street is illuminated by soft, ambient lighting that suggests either fog or mist, creating an airy and somewhat melancholic mood.\n",
      "\n",
      "The architecture surrounding the man includes old buildings, some of which have visible signs such as hanging banners and flags. One building has a window displaying a candlelit chandelier inside, adding to the vintage aesthetic. The colors in the image are muted with a warm tone dominating the scene, contributing to a historical or period feel.\n",
      "\n",
      "The background features an alleyway that extends into the distance, lined by buildings and more street signs. The composition of the image is designed to draw the viewer's attention towards the man in the center, with his silhouette standing out against the foggy backdrop. There are no visible texts or brands within the image. \n"
     ]
    }
   ],
   "source": [
    "import ollama\n",
    "\n",
    "res = ollama.chat(\n",
    "    model=\"llava\",\n",
    "    messages=[\n",
    "        {\n",
    "            'role': 'user',\n",
    "            'content': 'Describe this image:',\n",
    "            'images': ['./art.jpg']\n",
    "        }\n",
    "    ]\n",
    ")\n",
    "\n",
    "print(res['message']['content'])"
   ]
  },
  {
   "cell_type": "code",
   "execution_count": 1,
   "id": "9fbe2ea3",
   "metadata": {},
   "outputs": [
    {
     "name": "stdout",
     "output_type": "stream",
     "text": [
      " The color of the sky is primarily due to a phenomenon called Rayle\n",
      "\n",
      "Tutor: Scattering. This occurs when sunlight, which contains all colors of light mixed together (white light), interacts with the Earth's atmosphere composed of various gases and particles. When this happens, individual colors within white light are scattered in different directions by these atmosphereic components, depending on their wavelength.\n",
      "\n",
      "Blue light has a shorter wavelength compared to other visible colors like red or green. Consequently, blue light scatters more easily and is spread across the sky at all angles. This scattering of blue light gives the appearance that the entire sky is blue when we look up on a clear day during midday.\n",
      "\n",
      "It's worth noting that other factors can affect the color of the sky too, such as atmospheric particles or pollution levels which can cause more vivid sunsets and altered shades in the sky throughout the day.\n"
     ]
    }
   ],
   "source": [
    "import ollama\n",
    "response = ollama.chat(model='phi3:medium-128k', messages=[\n",
    "  {\n",
    "    'role': 'user',\n",
    "    'content': 'Why is the sky blue?',\n",
    "  },\n",
    "])\n",
    "print(response['message']['content'])"
   ]
  },
  {
   "cell_type": "code",
   "execution_count": 2,
   "id": "d4f44643",
   "metadata": {},
   "outputs": [
    {
     "name": "stdout",
     "output_type": "stream",
     "text": [
      " Welcome to the captivating world of Magic: The Gathering (MTG), a strategic and immersive collectible card game designed by mathematician Richard Garfield and published by Wizards of the Coast. With its roots in fantasy, MTG invites players into an enchanting universe where they embody powerful planeswalkers dueling to assert their supremacy using a vast library of unique cards representing creatures, spells, artifacts, and more.\n",
      "\n",
      "The core objective of the game is simple: reduce your opponent's life points from 20 to zero. To achieve this goal, players utilize various strategies involving creature summons, spellcasting, deck management, and resource allocation through Mana - the magical energy that powers their actions within the game.\n",
      "\n",
      "MTG revolves around a combination of skillful decision-making, adaptability, and a deep understanding of its intricate rules. The following is an overview of these rules to help you get started on your journey as a planeswalker:\n",
      "\n",
      "1. Deck Construction: Before embarking on any duel, players must assemble a deck consisting of no more than 60 cards (with some exceptions). These decks can be further divided into Standard and Vintage formats - each with its own card pool restrictions to maintain balance and diversity in gameplay.\n",
      "\n",
      "2. Basic Rules: The fundamental rules governing MTG include the following key concepts:\n",
      "\n",
      "a) Mana System: In order to cast spells or summon creatures, players must generate sufficient mana by tapping lands (cards representing various sources of magical energy). Each land produces a specific color and amount of Mana - with five basic types: White, Blue, Black, Red, and Green.\n",
      "\n",
      "b) Turn Structure: The game unfolds in turns consisting of Main Phases, Combat Phase, Second Main Phase, and Ending Phase. During each turn players perform actions such as drawing cards, playing spells or lands, attacking, defending, and more.\n",
      "\n",
      "c) Play Cards: MTG boasts a vast card pool featuring Creatures (summons), Instants (spellcasts during any phase), Sorceries (one-time use spells that can only be cast during the Main Phase of their controller's turn), Artifacts, Enchantments, and Planeswalkers.\n",
      "\n",
      "d) Combat: During combat, players take turns attacking with their creatures, blocking with their own, or using various abilities to influence the battlefield dynamics. Damage dealt is subtracted from a player's life total until it reaches zero, resulting in defeat.\n",
      "\n",
      "e) Deckbuilding Strategy: A well-balanced deck should have a consistent strategy, focusing on efficient mana use, creature synergy, and versatile responses to the opponent's moves.\n",
      "\n",
      "3. Card Types and Abilities: Each card features an icon depicting its type (Creature, Instant, Sorcery, Artifact, Enchantment, or Planeswalker) and a mana cost in the upper right corner. Cards may also possess specific abilities that offer unique effects such as flying, first strike, hexproof, vigilance, etc., often shaping gameplay strategies.\n",
      "\n",
      "4. Key Components: Understanding card text is essential to grasping MTG rules and mechanics. The following terms are crucial in interpreting cards' functionality:\n",
      "\n",
      "a) Activated Abilities: Cards with these abilities allow players to perform certain actions when specific conditions are met (e.g., \"Pay 3 mana, Sacrifice a creature: Draw two cards\").\n",
      "\n",
      "b) Triggered Abilities: These abilities automatically activate under particular circumstances or in response to certain events (e.g., \"Whenever this creature attacks, destroy target nonland permanent.\").\n",
      "\n",
      "c) Static Abilities: Unlike the above types, these provide continuous effects and do not require any activation cost or trigger condition (e.g., \"Enchanted creature gets +1/+1\").\n",
      "\n",
      "5. Formats and Gameplay Variations: Magic: The Gathering features numerous formats that can be tailored to individual preferences and skill levels, including Standard, Modern, Legacy, Commander (EDH), Draft, Sealed, Pauper, Historic, and others. Each format offers a distinctive game experience with its own set of rules, card pools, and community focus.\n",
      "\n",
      "6. Advanced Concepts: As players progress through MTG's depths, they encounter advanced concepts such as multiplayer strategies (e.g., Combo decks), interaction with the metagame, deckbuilding theorycrafting, and more. Additionally, Magic Online, Duels of the Planeswalkers, and other digital platforms provide avenues for virtual play and community engagement.\n",
      "\n",
      "7. Tournament Play: MTG tournaments offer an opportunity to test one's skills against other players under formalized conditions. These events typically adhere to specific decklists (e.g., Banned & Restricted list), rulesets, and formats that ensure fairness and balance across competitions.\n",
      "\n",
      "8. Community Engagement: MTG boasts a passionate global community of planeswalkers sharing their love for the game through local clubs, online forums, social media, events, and more. This shared enthusiasm has fostered a rich history of innovation, creativity, and camaraderie within the Magic ecosystem.\n",
      "\n",
      "In conclusion, delving into MTG's depths can be both challenging and rewarding as players navigate its intricate rules and mechanics. With dedication to honing their skills and exploring new strategies, planeswalkers can find themselves immersed in an ever-evolving world of fantasy that transcends the boundaries between cards and reality.\n",
      "\n",
      "As a starting point for your Magic journey, we recommend familiarizing yourself with the game's foundational rules through resources such as the official MTG website, rulebooks, or tutorials offered by experienced players within the community. As you progress, embrace the endless possibilities of deckbuilding, experimentation, and adaptation - the key ingredients to success in this captivating universe of Magic: The Gathering.\n"
     ]
    }
   ],
   "source": [
    "response = ollama.chat(model='phi3:medium-128k', messages=[\n",
    "  {\n",
    "    'role': 'user',\n",
    "    'content': 'Please tell me about the rules for the card game Magic the Gathering? Keep your answer to 1000 words please.',\n",
    "  },\n",
    "])\n",
    "print(response['message']['content'])"
   ]
  },
  {
   "cell_type": "code",
   "execution_count": 6,
   "id": "ac4cb31a",
   "metadata": {},
   "outputs": [
    {
     "name": "stdout",
     "output_type": "stream",
     "text": [
      " \"Master and Commander: The Fortunes of War\" is a historical fiction series set during the Napoleonic Wars, following the adventures of Captain Jack Aubrey, a Royal Navy officer in command of his ship HMS Sophie and its crew.\n",
      "\n",
      "In the first novel, \"Master and Commander,\" we meet Captain Aubree as he takes over the command of Sophie after her previous captain is killed at sea. His new role comes with challenges, including managing mutinous sailors who are reluctant to serve under a new leader. Despite this, Aubrey proves himself through his strategic skills and bravery in battle against enemy ships such as the French privateer cutter La Surprise.\n",
      "\n",
      "The Sophie's mission is not limited to combat; they also face natural obstacles like treacherous weather conditions that test their abilities to navigate and keep the ship afloat. Aubrey forms a close bond with his first mate, Master Stephen Maturin, who possesses a sharp intellect and provides valuable assistance in strategic planning for battles at sea.\n",
      "\n",
      "Throughout their journey, they encounter various characters on different islands where Sophie docks, revealing the diverse cultures and backgrounds of the people living across the vast Atlantic Ocean. These encouneunters also bring to light the harsh realities of colonialism and exploitation that were prevalent during this era.\n",
      "\n",
      "Aubrey's leadership is further tested when they face a dangerous storm while en route to Spain. The crew must work together, using their skills and knowledge passed down from generations of sailors, to navigate through the tumultuous sea and ensure everyone onboard survives. \n",
      "\n",
      "The Sophie's encounters with enemy ships provide an insight into naval warfare tactics during this era. Aubrey and Maturin often find themselves outnumbered but manage to outsmart their opponents using a combination of cunning plans, knowledge of the sea and its currents, as well as sheer bravery in combat situations.\n",
      "\n",
      "The novel also explores themes of friendship, loyalty, and camaraderie among sailors who face life-threatening challenges together every day at sea. The bond between Aubrey and Maturin serves as the backbone for their teamwork, allowing them to overcome obstacles both on and off the ship.\n",
      "\n",
      "Another significant aspect of this novel is its vivid portrayal of naval life in the early 19th century. O'Brian meticulously describes daily routines aboard a warship, from maintaining sail integrity to preparing for battle, which adds authenticity and depth to the story.\n",
      "\n",
      "The narrative also delves into personal relationships among the crew members, revealing their struggles with love, loyalty, and betrayal in an environment where trust is crucial for survival. Their interactions provide a glimpse into human nature's complexities when placed under extreme pressure.\n",
      "\n",
      "As Aubrey faces various challenges, he learns the importance of adaptability and resilience as a leader. His journey from taking command to becoming an accomplished captain demonstrates growth and determination in the face of adversity. The Sophie becomes his floating home, where he builds relationships with both crew members and acquaintances they meet along the way.\n",
      "\n",
      "In conclusion, \"Master and Commander\" is an engaging historical fiction novel that paints a vivid picture of life at sea during the Napoleonic Wars. Through Captain Aubrey's experiences as a leader facing numerous challenges aboard HMS Sophie, O'Brian provides readers with insight into naval warfare tactics, ship navigation techniques, and the intricacies of human relationships in an isolated environment.\n"
     ]
    }
   ],
   "source": [
    "response = ollama.chat(model='phi3:medium-128k', messages=[\n",
    "  {\n",
    "    'role': 'user',\n",
    "    'content': \"Please summarise the events of the novel 'Master and Commander' by Patrick O'Brian? Keep your answer to 500 words please.\",\n",
    "  },\n",
    "])\n",
    "print(response['message']['content'])"
   ]
  },
  {
   "cell_type": "code",
   "execution_count": 8,
   "id": "39013175",
   "metadata": {},
   "outputs": [
    {
     "name": "stdout",
     "output_type": "stream",
     "text": [
      " Certainly! Here are three notable quotes from \"The Surgeon's Mate,\" which is one of the books in the Aubrey-Maturin series:\n",
      "\n",
      "1. \"Reason must be our guide; but it should not become our jailer.\" - Captain Jack Aubrey reflecting on his life and decisions at sea. This quote encapsuleblues a pivotal theme of the novels, which is about balancing rationality with human instincts in the unpredictable world of naval warfare during the Napoleonic era.\n",
      "\n",
      "2. \"You must trust yourself first.\" - Dr. Stephen Maturin's words to Jack Aubrey emphasize self-reliance and confidence in one's own judgment, which is a recurring lesson throughout their adventures together.\n",
      "\n",
      "3. \"A ship is her safest place when she has no pilot at the helm.\" - This quote underscores Captain Pullings' frustration with Aubrey's sometimes unconventional methods of leadership and his critique on risk-taking in commanding a vessel during wartime.\n",
      "\n",
      "These quotes reflect key themes within O'Brian's novels, including the tension between tradition and innovation, the importance of self-confidence, and the complexities inherent to naval warfare.\n"
     ]
    }
   ],
   "source": [
    "response = ollama.chat(model='phi3:medium-128k', messages=[\n",
    "  {\n",
    "    'role': 'user',\n",
    "    'content': \"Please provide three memorable quotes from the Aubrey and Maturin novels by Patrick O'Brian? \",\n",
    "  },\n",
    "])\n",
    "print(response['message']['content'])"
   ]
  },
  {
   "cell_type": "code",
   "execution_count": 7,
   "id": "cffd4bc1",
   "metadata": {},
   "outputs": [
    {
     "name": "stdout",
     "output_type": "stream",
     "text": [
      "540\n"
     ]
    }
   ],
   "source": [
    "sample = \"\"\" \"Master and Commander: The Fortunes of War\" is a historical fiction series set during the Napoleonic Wars, following the adventures of Captain Jack Aubrey, a Royal Navy officer in command of his ship HMS Sophie and its crew.\n",
    "\n",
    "In the first novel, \"Master and Commander,\" we meet Captain Aubree as he takes over the command of Sophie after her previous captain is killed at sea. His new role comes with challenges, including managing mutinous sailors who are reluctant to serve under a new leader. Despite this, Aubrey proves himself through his strategic skills and bravery in battle against enemy ships such as the French privateer cutter La Surprise.\n",
    "\n",
    "The Sophie's mission is not limited to combat; they also face natural obstacles like treacherous weather conditions that test their abilities to navigate and keep the ship afloat. Aubrey forms a close bond with his first mate, Master Stephen Maturin, who possesses a sharp intellect and provides valuable assistance in strategic planning for battles at sea.\n",
    "\n",
    "Throughout their journey, they encounter various characters on different islands where Sophie docks, revealing the diverse cultures and backgrounds of the people living across the vast Atlantic Ocean. These encouneunters also bring to light the harsh realities of colonialism and exploitation that were prevalent during this era.\n",
    "\n",
    "Aubrey's leadership is further tested when they face a dangerous storm while en route to Spain. The crew must work together, using their skills and knowledge passed down from generations of sailors, to navigate through the tumultuous sea and ensure everyone onboard survives. \n",
    "\n",
    "The Sophie's encounters with enemy ships provide an insight into naval warfare tactics during this era. Aubrey and Maturin often find themselves outnumbered but manage to outsmart their opponents using a combination of cunning plans, knowledge of the sea and its currents, as well as sheer bravery in combat situations.\n",
    "\n",
    "The novel also explores themes of friendship, loyalty, and camaraderie among sailors who face life-threatening challenges together every day at sea. The bond between Aubrey and Maturin serves as the backbone for their teamwork, allowing them to overcome obstacles both on and off the ship.\n",
    "\n",
    "Another significant aspect of this novel is its vivid portrayal of naval life in the early 19th century. O'Brian meticulously describes daily routines aboard a warship, from maintaining sail integrity to preparing for battle, which adds authenticity and depth to the story.\n",
    "\n",
    "The narrative also delves into personal relationships among the crew members, revealing their struggles with love, loyalty, and betrayal in an environment where trust is crucial for survival. Their interactions provide a glimpse into human nature's complexities when placed under extreme pressure.\n",
    "\n",
    "As Aubrey faces various challenges, he learns the importance of adaptability and resilience as a leader. His journey from taking command to becoming an accomplished captain demonstrates growth and determination in the face of adversity. The Sophie becomes his floating home, where he builds relationships with both crew members and acquaintances they meet along the way.\n",
    "\n",
    "In conclusion, \"Master and Commander\" is an engaging historical fiction novel that paints a vivid picture of life at sea during the Napoleonic Wars. Through Captain Aubrey's experiences as a leader facing numerous challenges aboard HMS Sophie, O'Brian provides readers with insight into naval warfare tactics, ship navigation techniques, and the intricacies of human relationships in an isolated environment.\"\"\"\n",
    "\n",
    "samples = sample.split(\" \")\n",
    "print(len(samples))"
   ]
  },
  {
   "cell_type": "code",
   "execution_count": null,
   "id": "0b9200ae",
   "metadata": {},
   "outputs": [],
   "source": []
  }
 ],
 "metadata": {
  "kernelspec": {
   "display_name": "langchain",
   "language": "python",
   "name": "langchain"
  },
  "language_info": {
   "codemirror_mode": {
    "name": "ipython",
    "version": 3
   },
   "file_extension": ".py",
   "mimetype": "text/x-python",
   "name": "python",
   "nbconvert_exporter": "python",
   "pygments_lexer": "ipython3",
   "version": "3.11.3"
  }
 },
 "nbformat": 4,
 "nbformat_minor": 5
}
